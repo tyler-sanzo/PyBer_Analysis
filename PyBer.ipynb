{
 "cells": [
  {
   "cell_type": "code",
   "execution_count": null,
   "source": [
    "'''Import your data into a Pandas DataFrame.\r\n",
    "Merge your DataFrames.\r\n",
    "Create a bubble chart that showcases the average fare versus the total number of rides with bubble size based on the total number of drivers for each city type, including urban, suburban, and rural.\r\n",
    "Determine the mean, median, and mode for the following:\r\n",
    "The total number of rides for each city type.\r\n",
    "The average fares for each city type.\r\n",
    "The total number of drivers for each city type.\r\n",
    "Create box-and-whisker plots that visualize each of the following to determine if there are any outliers:\r\n",
    "The number of rides for each city type.\r\n",
    "The fares for each city type.\r\n",
    "The number of drivers for each city type.\r\n",
    "Create a pie chart that visualizes each of the following data for each city type:\r\n",
    "The percent of total fares.\r\n",
    "The percent of total rides.\r\n",
    "The percent of total drivers.'''"
   ],
   "outputs": [],
   "metadata": {}
  },
  {
   "cell_type": "code",
   "execution_count": 1,
   "source": [
    "#dependencies\r\n",
    "%matplotlib inline\r\n",
    "\r\n",
    "import matplotlib.pyplot as plt\r\n",
    "import pandas as pd"
   ],
   "outputs": [],
   "metadata": {}
  },
  {
   "cell_type": "code",
   "execution_count": 5,
   "source": [
    "city_data_file = 'Resources/city_data.csv'\r\n",
    "ride_data_file = 'Resources/ride_data.csv'\r\n",
    "city_df = pd.read_csv(city_data_file)\r\n",
    "ride_df = pd.read_csv(ride_data_file)\r\n",
    "city_df.head()\r\n",
    "ride_df.head()"
   ],
   "outputs": [
    {
     "output_type": "execute_result",
     "data": {
      "text/html": [
       "<div>\n",
       "<style scoped>\n",
       "    .dataframe tbody tr th:only-of-type {\n",
       "        vertical-align: middle;\n",
       "    }\n",
       "\n",
       "    .dataframe tbody tr th {\n",
       "        vertical-align: top;\n",
       "    }\n",
       "\n",
       "    .dataframe thead th {\n",
       "        text-align: right;\n",
       "    }\n",
       "</style>\n",
       "<table border=\"1\" class=\"dataframe\">\n",
       "  <thead>\n",
       "    <tr style=\"text-align: right;\">\n",
       "      <th></th>\n",
       "      <th>city</th>\n",
       "      <th>date</th>\n",
       "      <th>fare</th>\n",
       "      <th>ride_id</th>\n",
       "    </tr>\n",
       "  </thead>\n",
       "  <tbody>\n",
       "    <tr>\n",
       "      <th>0</th>\n",
       "      <td>Lake Jonathanshire</td>\n",
       "      <td>2019-01-14 10:14:22</td>\n",
       "      <td>13.83</td>\n",
       "      <td>5739410935873</td>\n",
       "    </tr>\n",
       "    <tr>\n",
       "      <th>1</th>\n",
       "      <td>South Michelleport</td>\n",
       "      <td>2019-03-04 18:24:09</td>\n",
       "      <td>30.24</td>\n",
       "      <td>2343912425577</td>\n",
       "    </tr>\n",
       "    <tr>\n",
       "      <th>2</th>\n",
       "      <td>Port Samanthamouth</td>\n",
       "      <td>2019-02-24 04:29:00</td>\n",
       "      <td>33.44</td>\n",
       "      <td>2005065760003</td>\n",
       "    </tr>\n",
       "    <tr>\n",
       "      <th>3</th>\n",
       "      <td>Rodneyfort</td>\n",
       "      <td>2019-02-10 23:22:03</td>\n",
       "      <td>23.44</td>\n",
       "      <td>5149245426178</td>\n",
       "    </tr>\n",
       "    <tr>\n",
       "      <th>4</th>\n",
       "      <td>South Jack</td>\n",
       "      <td>2019-03-06 04:28:35</td>\n",
       "      <td>34.58</td>\n",
       "      <td>3908451377344</td>\n",
       "    </tr>\n",
       "  </tbody>\n",
       "</table>\n",
       "</div>"
      ],
      "text/plain": [
       "                 city                 date   fare        ride_id\n",
       "0  Lake Jonathanshire  2019-01-14 10:14:22  13.83  5739410935873\n",
       "1  South Michelleport  2019-03-04 18:24:09  30.24  2343912425577\n",
       "2  Port Samanthamouth  2019-02-24 04:29:00  33.44  2005065760003\n",
       "3          Rodneyfort  2019-02-10 23:22:03  23.44  5149245426178\n",
       "4          South Jack  2019-03-06 04:28:35  34.58  3908451377344"
      ]
     },
     "metadata": {},
     "execution_count": 5
    }
   ],
   "metadata": {}
  },
  {
   "cell_type": "code",
   "execution_count": 19,
   "source": [
    "#5.2.4 Explore data in pandas\r\n",
    "\r\n",
    "#Inspecting city df\r\n",
    "\r\n",
    "#Get all the rows that contain null values.\r\n",
    "city_df.count\r\n",
    "#or \r\n",
    "city_df.isnull().sum()\r\n",
    "\r\n",
    "\r\n",
    "\r\n",
    "\r\n"
   ],
   "outputs": [
    {
     "output_type": "execute_result",
     "data": {
      "text/plain": [
       "Urban       66\n",
       "Suburban    36\n",
       "Rural       18\n",
       "Name: type, dtype: int64"
      ]
     },
     "metadata": {},
     "execution_count": 19
    }
   ],
   "metadata": {}
  },
  {
   "cell_type": "code",
   "execution_count": 20,
   "source": [
    "#Make sure the driver_count column has an integer data type.\r\n",
    "city_df.dtypes"
   ],
   "outputs": [
    {
     "output_type": "execute_result",
     "data": {
      "text/plain": [
       "city            object\n",
       "driver_count     int64\n",
       "type            object\n",
       "dtype: object"
      ]
     },
     "metadata": {},
     "execution_count": 20
    }
   ],
   "metadata": {}
  },
  {
   "cell_type": "code",
   "execution_count": 31,
   "source": [
    "#Find out how many data points there are for each type of city.\r\n",
    "city_df.type.unique()\r\n",
    "#array(['Urban', 'Suburban', 'Rural'], dtype=object)\r\n",
    "\r\n",
    "sum(city_df.type == 'Urban')\r\n",
    "#66\r\n",
    "\r\n",
    "sum(city_df.type == 'Suburban')\r\n",
    "#36\r\n",
    "\r\n",
    "sum(city_df.type == 'Rural')\r\n",
    "#18\r\n",
    "\r\n",
    "\r\n",
    "###Better way to do this is \r\n",
    "\r\n",
    "\r\n",
    "city_df.type.value_counts()\r\n",
    "# Urban       66\r\n",
    "# Suburban    36\r\n",
    "# Rural       18\r\n",
    "# Name: type, dtype: int64"
   ],
   "outputs": [
    {
     "output_type": "execute_result",
     "data": {
      "text/plain": [
       "Urban       66\n",
       "Suburban    36\n",
       "Rural       18\n",
       "Name: type, dtype: int64"
      ]
     },
     "metadata": {},
     "execution_count": 31
    }
   ],
   "metadata": {}
  },
  {
   "cell_type": "code",
   "execution_count": null,
   "source": [
    "()"
   ],
   "outputs": [],
   "metadata": {}
  }
 ],
 "metadata": {
  "orig_nbformat": 4,
  "language_info": {
   "name": "python",
   "version": "3.8.2",
   "mimetype": "text/x-python",
   "codemirror_mode": {
    "name": "ipython",
    "version": 3
   },
   "pygments_lexer": "ipython3",
   "nbconvert_exporter": "python",
   "file_extension": ".py"
  },
  "kernelspec": {
   "name": "python3",
   "display_name": "Python 3.8.2 32-bit"
  },
  "interpreter": {
   "hash": "53407e1270532579b1a89f93d56ca0e7e69e0c7fe55253e94960ff9a19649c31"
  }
 },
 "nbformat": 4,
 "nbformat_minor": 2
}